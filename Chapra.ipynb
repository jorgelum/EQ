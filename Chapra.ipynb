{
  "nbformat": 4,
  "nbformat_minor": 0,
  "metadata": {
    "colab": {
      "provenance": [],
      "authorship_tag": "ABX9TyOQqkJcp1Ugfq9kPzVhtIko",
      "include_colab_link": true
    },
    "kernelspec": {
      "name": "python3",
      "display_name": "Python 3"
    },
    "language_info": {
      "name": "python"
    }
  },
  "cells": [
    {
      "cell_type": "markdown",
      "metadata": {
        "id": "view-in-github",
        "colab_type": "text"
      },
      "source": [
        "<a href=\"https://colab.research.google.com/github/jorgelum/EQ/blob/main/Chapra.ipynb\" target=\"_parent\"><img src=\"https://colab.research.google.com/assets/colab-badge.svg\" alt=\"Open In Colab\"/></a>"
      ]
    },
    {
      "cell_type": "markdown",
      "source": [
        "## Introdução\n"
      ],
      "metadata": {
        "id": "-mmvUPvGI0Yu"
      }
    },
    {
      "cell_type": "markdown",
      "source": [],
      "metadata": {
        "id": "ndm5fU5pMUWL"
      }
    },
    {
      "cell_type": "markdown",
      "source": [
        "## Bibliotecas básicas"
      ],
      "metadata": {
        "id": "TFKZM2-oI-CX"
      }
    },
    {
      "cell_type": "code",
      "execution_count": null,
      "metadata": {
        "id": "bPPuqaDOAeAc"
      },
      "outputs": [],
      "source": [
        "import numpy as np\n",
        "from scipy.optimize import minimize, fsolve\n",
        "from scipy.integrate import odeint"
      ]
    },
    {
      "cell_type": "markdown",
      "source": [
        "## Otimização"
      ],
      "metadata": {
        "id": "-PXkcJ-8JEga"
      }
    },
    {
      "cell_type": "markdown",
      "source": [
        "* Pulp"
      ],
      "metadata": {
        "id": "Wqpc7cFceJiI"
      }
    },
    {
      "cell_type": "code",
      "source": [
        "!pip install PuLP"
      ],
      "metadata": {
        "id": "_ewxPsoR67hu"
      },
      "execution_count": null,
      "outputs": []
    },
    {
      "cell_type": "code",
      "source": [
        "from pulp import*"
      ],
      "metadata": {
        "id": "mO7MKqkv61tp"
      },
      "execution_count": null,
      "outputs": []
    },
    {
      "cell_type": "code",
      "source": [
        "#Criando o problema\n",
        "Problema = LpProblem(\"Chapra_Gas\",LpMaximize)\n",
        "\n",
        "#Definindo as variáveis\n",
        "#x1 - Gás Regular\n",
        "#x2 - Gás Premium\n",
        "x1 = LpVariable(\"x1\",lowBound= 0,upBound=9,cat = \"Continuous\")\n",
        "x2 = LpVariable(\"x2\",lowBound= 0,upBound=6,cat = \"Continuous\")\n",
        "\n",
        "#Função Objetivo\n",
        "Problema +=  150*x1 + 175*x2, \"Objective\"\n",
        "\n",
        "#Restrições\n",
        "Problema +=  7*x1 + 11*x2  <=  77, \"Constrains1\"\n",
        "Problema +=  10*x1 + 8*x2 <=  80, \"Constrains2\"\n",
        "\n",
        "Problema"
      ],
      "metadata": {
        "colab": {
          "base_uri": "https://localhost:8080/"
        },
        "id": "EMlt-oK9BPCn",
        "outputId": "8923af69-b64c-4d92-d742-6c84f1f225e1"
      },
      "execution_count": null,
      "outputs": [
        {
          "output_type": "execute_result",
          "data": {
            "text/plain": [
              "Chapra_Gas:\n",
              "MAXIMIZE\n",
              "150*x1 + 175*x2 + 0\n",
              "SUBJECT TO\n",
              "Constrains1: 7 x1 + 11 x2 <= 77\n",
              "\n",
              "Constrains2: 10 x1 + 8 x2 <= 80\n",
              "\n",
              "VARIABLES\n",
              "x1 <= 9 Continuous\n",
              "x2 <= 6 Continuous"
            ]
          },
          "metadata": {},
          "execution_count": 12
        }
      ]
    },
    {
      "cell_type": "code",
      "source": [
        "status = Problema.solve()\n",
        "LpStatus[status]"
      ],
      "metadata": {
        "colab": {
          "base_uri": "https://localhost:8080/",
          "height": 35
        },
        "id": "lOXkCHEwmcV0",
        "outputId": "1a50dd9e-37e3-4a63-ad10-411a24bdf67b"
      },
      "execution_count": null,
      "outputs": [
        {
          "output_type": "execute_result",
          "data": {
            "text/plain": [
              "'Optimal'"
            ],
            "application/vnd.google.colaboratory.intrinsic+json": {
              "type": "string"
            }
          },
          "metadata": {},
          "execution_count": 13
        }
      ]
    },
    {
      "cell_type": "code",
      "source": [
        "value(Problema.objective)"
      ],
      "metadata": {
        "colab": {
          "base_uri": "https://localhost:8080/"
        },
        "id": "qzb4l-FgiF-O",
        "outputId": "7138ae78-f2a6-4203-8d19-583f27b2a855"
      },
      "execution_count": null,
      "outputs": [
        {
          "output_type": "execute_result",
          "data": {
            "text/plain": [
              "1413.8888925"
            ]
          },
          "metadata": {},
          "execution_count": 14
        }
      ]
    },
    {
      "cell_type": "code",
      "source": [
        "for var in Problema.variables():\n",
        "  print(var.name, \"=\", round(var.varValue,3))"
      ],
      "metadata": {
        "colab": {
          "base_uri": "https://localhost:8080/"
        },
        "id": "yVMzI8s3iZdj",
        "outputId": "fde7ac0b-9261-4472-8edc-20fd4cb639fa"
      },
      "execution_count": null,
      "outputs": [
        {
          "output_type": "stream",
          "name": "stdout",
          "text": [
            "x1 = 4.889\n",
            "x2 = 3.889\n"
          ]
        }
      ]
    },
    {
      "cell_type": "markdown",
      "source": [
        "* Scipy"
      ],
      "metadata": {
        "id": "jofSo8mceW5c"
      }
    },
    {
      "cell_type": "code",
      "source": [
        "#função objetivo\n",
        "def Obj(x):\n",
        "  return -150*x[0] - 175*x[1]\n",
        "\n",
        "#Restrições\n",
        "def Contrains1(x):\n",
        "  return  - 7*x[0] - 11*x[1] + 77\n",
        "\n",
        "def Contrains2(x):\n",
        "  return  - 10*x[0] - 8*x[1] + 80\n",
        "\n",
        "\n",
        "cons = [{'type':'ineq','fun':Contrains1},\n",
        "        {'type':'ineq','fun':Contrains2}]\n",
        "\n",
        "#região de busca\n",
        "\n",
        "bnds = ((0,9),(0,6))\n",
        "#estimativas iniciais\n",
        "x0 = [0,0]\n",
        "\n",
        "sol = minimize(Obj,x0,method='SLSQP',bounds=bnds, constraints=cons,)\n",
        "print(f\"função maximizada {round(-sol.fun,3)}\")\n",
        "print(f\"x1 = {round(sol.x[0],3)} e x2 = {round(sol.x[1],3)}\")"
      ],
      "metadata": {
        "colab": {
          "base_uri": "https://localhost:8080/"
        },
        "id": "oyF_Wssbe-9Y",
        "outputId": "1e1e37b8-bbb0-4eaf-f07f-d54fe1a456b9"
      },
      "execution_count": null,
      "outputs": [
        {
          "output_type": "stream",
          "name": "stdout",
          "text": [
            "função maximizada 1413.889\n",
            "x1 = 4.889 e x2 = 3.889\n"
          ]
        }
      ]
    },
    {
      "cell_type": "markdown",
      "source": [
        "## Equações Algébricas"
      ],
      "metadata": {
        "id": "zEsLIZiuYQ99"
      }
    },
    {
      "cell_type": "markdown",
      "source": [
        "\\begin{equation}\n",
        "    \\ x_{0} + x_{1} = 2 \\\\\\\\\n",
        "    \\ 2x_{0} -x_{1} = 10\n",
        "\\end{equation}"
      ],
      "metadata": {
        "id": "RCxxw9B6vCIY"
      }
    },
    {
      "cell_type": "code",
      "source": [
        "def eq(x):\n",
        "  #deixando na forma de resíduo\n",
        "  res = np.zeros(len(x))\n",
        "  res[0] = x[0] + x[1] - 2\n",
        "  res[1] = 2*x[0] - x[1] - 10\n",
        "  return res\n",
        "\n",
        "x0 = [3,2] #estimativa inicial\n",
        "print(f\"x0 = {fsolve(eq,x0)[0]}, x1 = {fsolve(eq,x0)[1]}\")"
      ],
      "metadata": {
        "colab": {
          "base_uri": "https://localhost:8080/"
        },
        "id": "ToQfLUdyYPZs",
        "outputId": "845ff824-b65a-43c0-d0aa-8e39f79d0d9b"
      },
      "execution_count": null,
      "outputs": [
        {
          "output_type": "stream",
          "name": "stdout",
          "text": [
            "x0 = 4.0, x1 = -2.0\n"
          ]
        }
      ]
    },
    {
      "cell_type": "code",
      "source": [
        "fsolve(eq,[1,1])"
      ],
      "metadata": {
        "colab": {
          "base_uri": "https://localhost:8080/"
        },
        "id": "8-hL_vXQZtBU",
        "outputId": "a3d25c4d-debc-4d35-8719-e2835b62dbc4"
      },
      "execution_count": null,
      "outputs": [
        {
          "output_type": "execute_result",
          "data": {
            "text/plain": [
              "array([ 4., -2.])"
            ]
          },
          "metadata": {},
          "execution_count": 12
        }
      ]
    }
  ]
}