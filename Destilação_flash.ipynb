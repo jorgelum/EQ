{
  "nbformat": 4,
  "nbformat_minor": 0,
  "metadata": {
    "colab": {
      "provenance": [],
      "authorship_tag": "ABX9TyMu+PdUMNlI5Y9DFsmKVNKy",
      "include_colab_link": true
    },
    "kernelspec": {
      "name": "python3",
      "display_name": "Python 3"
    },
    "language_info": {
      "name": "python"
    }
  },
  "cells": [
    {
      "cell_type": "markdown",
      "metadata": {
        "id": "view-in-github",
        "colab_type": "text"
      },
      "source": [
        "<a href=\"https://colab.research.google.com/github/jorgelum/EQ/blob/main/Destila%C3%A7%C3%A3o_flash.ipynb\" target=\"_parent\"><img src=\"https://colab.research.google.com/assets/colab-badge.svg\" alt=\"Open In Colab\"/></a>"
      ]
    },
    {
      "cell_type": "markdown",
      "source": [
        "**Unidade Curricular**: Operações Unitárias 3 \\\n",
        "**Coordenador**: Profº Dr. Alexandre Argondizo \\\n",
        "**Autor**: Jorge Luiz Mendes"
      ],
      "metadata": {
        "id": "DMTS6OQAcNZ8"
      }
    },
    {
      "cell_type": "markdown",
      "source": [
        "## Bibliotecas"
      ],
      "metadata": {
        "id": "JcMEle2ycN5A"
      }
    },
    {
      "cell_type": "code",
      "execution_count": 1,
      "metadata": {
        "id": "uByIIionr2ST"
      },
      "outputs": [],
      "source": [
        "import pandas as pd #Tratamento de dados\n",
        "import numpy as np\n",
        "import scipy.optimize as opt #Otimização\n",
        "import matplotlib.pyplot as plt # Gráficos"
      ]
    },
    {
      "cell_type": "markdown",
      "source": [
        "## Informações Gerais (exercícios 1 e 2)"
      ],
      "metadata": {
        "id": "ASn1pouMd9II"
      }
    },
    {
      "cell_type": "markdown",
      "source": [
        "Equação de equlíbrio para o sistema de hidrocarbonetos leves:\n",
        "\n",
        "\\begin{equation}\n",
        "    \\ ln \\ K =  - \\frac{A}{T^2} + B \\ - C \\ ln(P) + \\frac{D}{P} + \\frac{E}{P^2}\n",
        "\\end{equation}\n",
        "*Sendo P(psia) e T(°R)"
      ],
      "metadata": {
        "id": "pFEvFxBeeH81"
      }
    },
    {
      "cell_type": "markdown",
      "source": [
        "Cálculo de composição do flash:\n",
        "\\begin{equation}\n",
        "  x_i = \\frac{z_i}{1 + (K_i - 1)\\frac{V}{F}}\n",
        "\\end{equation}\n",
        "\n",
        "\n",
        "\\begin{equation}\n",
        "  y_i = \\frac{z_i K_i}{1 + (K_i - 1)\\frac{V}{F}}\n",
        "\\end{equation}\n",
        "\n",
        "\\begin{equation}\n",
        "  \\sum_{i = 1}^{C}{x_i}  = 1\n",
        "\\end{equation}\n",
        "\n",
        "\\begin{equation}\n",
        "  \\sum_{i = 1}^{C}{y_i}  = 1\n",
        "\\end{equation}"
      ],
      "metadata": {
        "id": "hV-OHX6_jMhG"
      }
    },
    {
      "cell_type": "code",
      "source": [
        "#Coeficientes A, B, C, D e E\n",
        "dados = {'Etileno':[600076.9,7.90595,0.84677,0,42.94594],\n",
        "         'Etano':[687248.2,7.90694,0.866,0,49.02654],\n",
        "         'Propano':[970688.6,7.15059,0.76984,6.90224,0],\n",
        "         'Butano':[1280557,7.94986,0.06455,0,0]}\n",
        "pd.DataFrame(data = dados,index = ['A','B','C','D','E']).T"
      ],
      "metadata": {
        "colab": {
          "base_uri": "https://localhost:8080/",
          "height": 0
        },
        "id": "Lo8a6SewfPaL",
        "outputId": "119ea1c8-9fb2-45aa-8ad6-2e025149bcbd"
      },
      "execution_count": 2,
      "outputs": [
        {
          "output_type": "execute_result",
          "data": {
            "text/plain": [
              "                 A        B        C        D         E\n",
              "Etileno   600076.9  7.90595  0.84677  0.00000  42.94594\n",
              "Etano     687248.2  7.90694  0.86600  0.00000  49.02654\n",
              "Propano   970688.6  7.15059  0.76984  6.90224   0.00000\n",
              "Butano   1280557.0  7.94986  0.06455  0.00000   0.00000"
            ],
            "text/html": [
              "\n",
              "  <div id=\"df-34ab5cdc-b91b-47b3-9b74-15f1f804af9d\" class=\"colab-df-container\">\n",
              "    <div>\n",
              "<style scoped>\n",
              "    .dataframe tbody tr th:only-of-type {\n",
              "        vertical-align: middle;\n",
              "    }\n",
              "\n",
              "    .dataframe tbody tr th {\n",
              "        vertical-align: top;\n",
              "    }\n",
              "\n",
              "    .dataframe thead th {\n",
              "        text-align: right;\n",
              "    }\n",
              "</style>\n",
              "<table border=\"1\" class=\"dataframe\">\n",
              "  <thead>\n",
              "    <tr style=\"text-align: right;\">\n",
              "      <th></th>\n",
              "      <th>A</th>\n",
              "      <th>B</th>\n",
              "      <th>C</th>\n",
              "      <th>D</th>\n",
              "      <th>E</th>\n",
              "    </tr>\n",
              "  </thead>\n",
              "  <tbody>\n",
              "    <tr>\n",
              "      <th>Etileno</th>\n",
              "      <td>600076.9</td>\n",
              "      <td>7.90595</td>\n",
              "      <td>0.84677</td>\n",
              "      <td>0.00000</td>\n",
              "      <td>42.94594</td>\n",
              "    </tr>\n",
              "    <tr>\n",
              "      <th>Etano</th>\n",
              "      <td>687248.2</td>\n",
              "      <td>7.90694</td>\n",
              "      <td>0.86600</td>\n",
              "      <td>0.00000</td>\n",
              "      <td>49.02654</td>\n",
              "    </tr>\n",
              "    <tr>\n",
              "      <th>Propano</th>\n",
              "      <td>970688.6</td>\n",
              "      <td>7.15059</td>\n",
              "      <td>0.76984</td>\n",
              "      <td>6.90224</td>\n",
              "      <td>0.00000</td>\n",
              "    </tr>\n",
              "    <tr>\n",
              "      <th>Butano</th>\n",
              "      <td>1280557.0</td>\n",
              "      <td>7.94986</td>\n",
              "      <td>0.06455</td>\n",
              "      <td>0.00000</td>\n",
              "      <td>0.00000</td>\n",
              "    </tr>\n",
              "  </tbody>\n",
              "</table>\n",
              "</div>\n",
              "    <div class=\"colab-df-buttons\">\n",
              "\n",
              "  <div class=\"colab-df-container\">\n",
              "    <button class=\"colab-df-convert\" onclick=\"convertToInteractive('df-34ab5cdc-b91b-47b3-9b74-15f1f804af9d')\"\n",
              "            title=\"Convert this dataframe to an interactive table.\"\n",
              "            style=\"display:none;\">\n",
              "\n",
              "  <svg xmlns=\"http://www.w3.org/2000/svg\" height=\"24px\" viewBox=\"0 -960 960 960\">\n",
              "    <path d=\"M120-120v-720h720v720H120Zm60-500h600v-160H180v160Zm220 220h160v-160H400v160Zm0 220h160v-160H400v160ZM180-400h160v-160H180v160Zm440 0h160v-160H620v160ZM180-180h160v-160H180v160Zm440 0h160v-160H620v160Z\"/>\n",
              "  </svg>\n",
              "    </button>\n",
              "\n",
              "  <style>\n",
              "    .colab-df-container {\n",
              "      display:flex;\n",
              "      gap: 12px;\n",
              "    }\n",
              "\n",
              "    .colab-df-convert {\n",
              "      background-color: #E8F0FE;\n",
              "      border: none;\n",
              "      border-radius: 50%;\n",
              "      cursor: pointer;\n",
              "      display: none;\n",
              "      fill: #1967D2;\n",
              "      height: 32px;\n",
              "      padding: 0 0 0 0;\n",
              "      width: 32px;\n",
              "    }\n",
              "\n",
              "    .colab-df-convert:hover {\n",
              "      background-color: #E2EBFA;\n",
              "      box-shadow: 0px 1px 2px rgba(60, 64, 67, 0.3), 0px 1px 3px 1px rgba(60, 64, 67, 0.15);\n",
              "      fill: #174EA6;\n",
              "    }\n",
              "\n",
              "    .colab-df-buttons div {\n",
              "      margin-bottom: 4px;\n",
              "    }\n",
              "\n",
              "    [theme=dark] .colab-df-convert {\n",
              "      background-color: #3B4455;\n",
              "      fill: #D2E3FC;\n",
              "    }\n",
              "\n",
              "    [theme=dark] .colab-df-convert:hover {\n",
              "      background-color: #434B5C;\n",
              "      box-shadow: 0px 1px 3px 1px rgba(0, 0, 0, 0.15);\n",
              "      filter: drop-shadow(0px 1px 2px rgba(0, 0, 0, 0.3));\n",
              "      fill: #FFFFFF;\n",
              "    }\n",
              "  </style>\n",
              "\n",
              "    <script>\n",
              "      const buttonEl =\n",
              "        document.querySelector('#df-34ab5cdc-b91b-47b3-9b74-15f1f804af9d button.colab-df-convert');\n",
              "      buttonEl.style.display =\n",
              "        google.colab.kernel.accessAllowed ? 'block' : 'none';\n",
              "\n",
              "      async function convertToInteractive(key) {\n",
              "        const element = document.querySelector('#df-34ab5cdc-b91b-47b3-9b74-15f1f804af9d');\n",
              "        const dataTable =\n",
              "          await google.colab.kernel.invokeFunction('convertToInteractive',\n",
              "                                                    [key], {});\n",
              "        if (!dataTable) return;\n",
              "\n",
              "        const docLinkHtml = 'Like what you see? Visit the ' +\n",
              "          '<a target=\"_blank\" href=https://colab.research.google.com/notebooks/data_table.ipynb>data table notebook</a>'\n",
              "          + ' to learn more about interactive tables.';\n",
              "        element.innerHTML = '';\n",
              "        dataTable['output_type'] = 'display_data';\n",
              "        await google.colab.output.renderOutput(dataTable, element);\n",
              "        const docLink = document.createElement('div');\n",
              "        docLink.innerHTML = docLinkHtml;\n",
              "        element.appendChild(docLink);\n",
              "      }\n",
              "    </script>\n",
              "  </div>\n",
              "\n",
              "\n",
              "<div id=\"df-db321475-3152-4ddb-8493-d662e86f8e53\">\n",
              "  <button class=\"colab-df-quickchart\" onclick=\"quickchart('df-db321475-3152-4ddb-8493-d662e86f8e53')\"\n",
              "            title=\"Suggest charts.\"\n",
              "            style=\"display:none;\">\n",
              "\n",
              "<svg xmlns=\"http://www.w3.org/2000/svg\" height=\"24px\"viewBox=\"0 0 24 24\"\n",
              "     width=\"24px\">\n",
              "    <g>\n",
              "        <path d=\"M19 3H5c-1.1 0-2 .9-2 2v14c0 1.1.9 2 2 2h14c1.1 0 2-.9 2-2V5c0-1.1-.9-2-2-2zM9 17H7v-7h2v7zm4 0h-2V7h2v10zm4 0h-2v-4h2v4z\"/>\n",
              "    </g>\n",
              "</svg>\n",
              "  </button>\n",
              "\n",
              "<style>\n",
              "  .colab-df-quickchart {\n",
              "      --bg-color: #E8F0FE;\n",
              "      --fill-color: #1967D2;\n",
              "      --hover-bg-color: #E2EBFA;\n",
              "      --hover-fill-color: #174EA6;\n",
              "      --disabled-fill-color: #AAA;\n",
              "      --disabled-bg-color: #DDD;\n",
              "  }\n",
              "\n",
              "  [theme=dark] .colab-df-quickchart {\n",
              "      --bg-color: #3B4455;\n",
              "      --fill-color: #D2E3FC;\n",
              "      --hover-bg-color: #434B5C;\n",
              "      --hover-fill-color: #FFFFFF;\n",
              "      --disabled-bg-color: #3B4455;\n",
              "      --disabled-fill-color: #666;\n",
              "  }\n",
              "\n",
              "  .colab-df-quickchart {\n",
              "    background-color: var(--bg-color);\n",
              "    border: none;\n",
              "    border-radius: 50%;\n",
              "    cursor: pointer;\n",
              "    display: none;\n",
              "    fill: var(--fill-color);\n",
              "    height: 32px;\n",
              "    padding: 0;\n",
              "    width: 32px;\n",
              "  }\n",
              "\n",
              "  .colab-df-quickchart:hover {\n",
              "    background-color: var(--hover-bg-color);\n",
              "    box-shadow: 0 1px 2px rgba(60, 64, 67, 0.3), 0 1px 3px 1px rgba(60, 64, 67, 0.15);\n",
              "    fill: var(--button-hover-fill-color);\n",
              "  }\n",
              "\n",
              "  .colab-df-quickchart-complete:disabled,\n",
              "  .colab-df-quickchart-complete:disabled:hover {\n",
              "    background-color: var(--disabled-bg-color);\n",
              "    fill: var(--disabled-fill-color);\n",
              "    box-shadow: none;\n",
              "  }\n",
              "\n",
              "  .colab-df-spinner {\n",
              "    border: 2px solid var(--fill-color);\n",
              "    border-color: transparent;\n",
              "    border-bottom-color: var(--fill-color);\n",
              "    animation:\n",
              "      spin 1s steps(1) infinite;\n",
              "  }\n",
              "\n",
              "  @keyframes spin {\n",
              "    0% {\n",
              "      border-color: transparent;\n",
              "      border-bottom-color: var(--fill-color);\n",
              "      border-left-color: var(--fill-color);\n",
              "    }\n",
              "    20% {\n",
              "      border-color: transparent;\n",
              "      border-left-color: var(--fill-color);\n",
              "      border-top-color: var(--fill-color);\n",
              "    }\n",
              "    30% {\n",
              "      border-color: transparent;\n",
              "      border-left-color: var(--fill-color);\n",
              "      border-top-color: var(--fill-color);\n",
              "      border-right-color: var(--fill-color);\n",
              "    }\n",
              "    40% {\n",
              "      border-color: transparent;\n",
              "      border-right-color: var(--fill-color);\n",
              "      border-top-color: var(--fill-color);\n",
              "    }\n",
              "    60% {\n",
              "      border-color: transparent;\n",
              "      border-right-color: var(--fill-color);\n",
              "    }\n",
              "    80% {\n",
              "      border-color: transparent;\n",
              "      border-right-color: var(--fill-color);\n",
              "      border-bottom-color: var(--fill-color);\n",
              "    }\n",
              "    90% {\n",
              "      border-color: transparent;\n",
              "      border-bottom-color: var(--fill-color);\n",
              "    }\n",
              "  }\n",
              "</style>\n",
              "\n",
              "  <script>\n",
              "    async function quickchart(key) {\n",
              "      const quickchartButtonEl =\n",
              "        document.querySelector('#' + key + ' button');\n",
              "      quickchartButtonEl.disabled = true;  // To prevent multiple clicks.\n",
              "      quickchartButtonEl.classList.add('colab-df-spinner');\n",
              "      try {\n",
              "        const charts = await google.colab.kernel.invokeFunction(\n",
              "            'suggestCharts', [key], {});\n",
              "      } catch (error) {\n",
              "        console.error('Error during call to suggestCharts:', error);\n",
              "      }\n",
              "      quickchartButtonEl.classList.remove('colab-df-spinner');\n",
              "      quickchartButtonEl.classList.add('colab-df-quickchart-complete');\n",
              "    }\n",
              "    (() => {\n",
              "      let quickchartButtonEl =\n",
              "        document.querySelector('#df-db321475-3152-4ddb-8493-d662e86f8e53 button');\n",
              "      quickchartButtonEl.style.display =\n",
              "        google.colab.kernel.accessAllowed ? 'block' : 'none';\n",
              "    })();\n",
              "  </script>\n",
              "</div>\n",
              "    </div>\n",
              "  </div>\n"
            ]
          },
          "metadata": {},
          "execution_count": 2
        }
      ]
    },
    {
      "cell_type": "markdown",
      "source": [
        "## Métodos para o cálculo do flash"
      ],
      "metadata": {
        "id": "o9ki57BXMPw8"
      }
    },
    {
      "cell_type": "code",
      "source": [
        "#Cálculo de Equilíbrio\n",
        "def EQK(P,T,dados:dict):\n",
        "  n = len(dados)\n",
        "  k = np.zeros(n)\n",
        "  for i,j in enumerate(dados):\n",
        "     A,B,C,D,E = dados[j]\n",
        "     k[i] = np.exp(- A/(T**2) + B - C*np.log(P) + D/P + E/(P**2))\n",
        "\n",
        "  return k\n",
        "\n",
        "#Cálculo do Tanque Flash Multicomponente\n",
        "def flash(mistura:list,dados:dict,P,T,f):\n",
        "  n = len(mistura)\n",
        "  x = np.zeros(n)\n",
        "  y = np.zeros(n)\n",
        "  k = np.zeros(n)\n",
        "\n",
        "  for i in range(0,n):\n",
        "     k[i] = EQK(P,T,dados)[i]\n",
        "     x[i] = mistura[i]/((1+(k[i]-1)*f))\n",
        "     y[i] = x[i]*k[i]\n",
        "\n",
        "  return x,y"
      ],
      "metadata": {
        "id": "1ngWliEHsEnd"
      },
      "execution_count": 3,
      "outputs": []
    },
    {
      "cell_type": "markdown",
      "source": [
        "## Exercício 1"
      ],
      "metadata": {
        "id": "jYjFikUrdgBA"
      }
    },
    {
      "cell_type": "markdown",
      "source": [
        "A mistura especificada a seguir é alimentada a um separador flash que opera a uma pressão de 200 psia.\n",
        "Composição:\n",
        " - Etileno($C_2 H_4$) = 20 %\n",
        " - Etano($C_2 H_6$) = 20 %\n",
        " - Propano($C_3 H_8$) = 40 %\n",
        " - n-Butano($C_4 H_{10}$) = 20 %\n",
        "\n",
        "\n",
        " Determine a temperatura e a composição das correntes de vapor e líquido que deixam o separador se 40 % da mistura (feed) é vaporizada."
      ],
      "metadata": {
        "id": "33J2b0Zndxbx"
      }
    },
    {
      "cell_type": "markdown",
      "source": [
        "Como não havia informações a respeito de $T_{bolha}$ e $T_{orvalho}$ a primeira estimativa foi feita com base na menor T de ebulição dos componentes (T = - 89 °C / 331 °R). \\\n",
        "Lembrando:    \n",
        "\\begin{equation}\n",
        "  °R = (°C + 273,15) \\frac{9}{5}\n",
        "\\end{equation}  "
      ],
      "metadata": {
        "id": "DBBnOWDHquGW"
      }
    },
    {
      "cell_type": "code",
      "source": [
        "mistura = [0.2,0.2,0.4,0.2] # Composição da alimentação em fração\n",
        "\n",
        "f = 0.4 #fração de vaporização V/F\n",
        "P = 200 #Pressão em psia\n",
        "T = 331 #Temperatura em °R\n",
        "\n",
        "print(f'Componentes - Temperatura {T}°R no flash à {P} psia')\n",
        "for i,j in enumerate(dados):\n",
        "  xi = flash(mistura,dados,P,T,f)[0][i]*100\n",
        "  yi = flash(mistura,dados,P,T,f)[1][i]*100\n",
        "  print(f'{j}: fase líquida {round(xi,2)} % | fase gasosa {round(yi,2)} %')\n"
      ],
      "metadata": {
        "id": "u6ctOwlesph1",
        "colab": {
          "base_uri": "https://localhost:8080/"
        },
        "outputId": "e8f37534-afe8-4bfe-aa8d-6f7f96d7e03f"
      },
      "execution_count": 4,
      "outputs": [
        {
          "output_type": "stream",
          "name": "stdout",
          "text": [
            "Componentes - Temperatura 331°R no flash à 200 psia\n",
            "Etileno: fase líquida 30.71 % | fase gasosa 3.93 %\n",
            "Etano: fase líquida 32.21 % | fase gasosa 1.68 %\n",
            "Propano: fase líquida 66.53 % | fase gasosa 0.21 %\n",
            "Butano: fase líquida 32.96 % | fase gasosa 0.56 %\n"
          ]
        }
      ]
    },
    {
      "cell_type": "markdown",
      "source": [
        "Métodos de otimização para achar a temperatura do flash."
      ],
      "metadata": {
        "id": "5Veg5auLzVyD"
      }
    },
    {
      "cell_type": "code",
      "source": [
        "def FOtimizada(T): #função de otimização de 1 parâmetro\n",
        "  x = sum(flash(mistura,dados,P,T,f)[0])\n",
        "  y = sum(flash(mistura,dados,P,T,f)[1])\n",
        "  return (x - 1)**2 + (y - 1)**2 #Forçando os somatórios a darem 1\n",
        "\n",
        "R1 = opt.minimize_scalar(FOtimizada,bounds=(300,1000)).x\n",
        "print(f'Temperatura otimizada {round(R1,2)}°R')"
      ],
      "metadata": {
        "colab": {
          "base_uri": "https://localhost:8080/"
        },
        "id": "OzOy7g8gX7D3",
        "outputId": "0cfa53c7-f397-4585-895e-a46d8a887034"
      },
      "execution_count": 5,
      "outputs": [
        {
          "output_type": "stream",
          "name": "stdout",
          "text": [
            "Temperatura otimizada 460.95°R\n"
          ]
        }
      ]
    },
    {
      "cell_type": "markdown",
      "source": [
        "Utilizando a equação de Rachford-Rice.\n",
        "\n",
        "\\begin{equation}\n",
        "  \\sum_{i = 0}^{C}{\\frac{Z_i (1- K_i)}{1 + ψ(K_i -1)}} = 0\n",
        "\\end{equation}"
      ],
      "metadata": {
        "id": "BI0vENNDSynJ"
      }
    },
    {
      "cell_type": "code",
      "source": [
        "def RR(T,P,dados,mistura,f):\n",
        "  n = len(dados)\n",
        "  k = np.zeros(n)\n",
        "  c = np.zeros(n)\n",
        "  for i in range(0,n):\n",
        "    k[i] = EQK(P,T,dados)[i]\n",
        "    c[i] = mistura[i]*(1-k[i])/(1+f*(k[i] - 1))\n",
        "\n",
        "  return (sum(c))**2\n",
        "\n",
        "R2 = opt.minimize_scalar(RR,bounds=(300,1000),args=(P,dados,mistura,f)).x\n",
        "print(f'Temperatura otimizada utilizando Rachford-Rice {round(R2,2)}°R')"
      ],
      "metadata": {
        "colab": {
          "base_uri": "https://localhost:8080/"
        },
        "id": "sNTg-U73ZbmD",
        "outputId": "8c64bc22-96f1-4b19-a3f8-aaad20f8f97b"
      },
      "execution_count": 6,
      "outputs": [
        {
          "output_type": "stream",
          "name": "stdout",
          "text": [
            "Temperatura otimizada utilizando Rachford-Rice 460.95°R\n"
          ]
        }
      ]
    },
    {
      "cell_type": "code",
      "source": [
        "T = 460.95 #°R\n",
        "print(f'Componentes - Temperatura {T}°R no flash à {P} psia')\n",
        "for i,j in enumerate(dados):\n",
        "  xi = flash(mistura,dados,P,T,f)[0][i]*100\n",
        "  yi = flash(mistura,dados,P,T,f)[1][i]*100\n",
        "  print(f'{j}: fase líquida {round(xi,2)} % | fase gasosa {round(yi,2)} %')"
      ],
      "metadata": {
        "colab": {
          "base_uri": "https://localhost:8080/"
        },
        "id": "RbTYRt5sixaW",
        "outputId": "ff581ba4-12a3-4cad-fea7-c78e6c42bc0a"
      },
      "execution_count": 7,
      "outputs": [
        {
          "output_type": "stream",
          "name": "stdout",
          "text": [
            "Componentes - Temperatura 460.95°R no flash à 200 psia\n",
            "Etileno: fase líquida 15.08 % | fase gasosa 27.38 %\n",
            "Etano: fase líquida 19.31 % | fase gasosa 21.03 %\n",
            "Propano: fase líquida 57.75 % | fase gasosa 13.38 %\n",
            "Butano: fase líquida 7.86 % | fase gasosa 38.21 %\n"
          ]
        }
      ]
    },
    {
      "cell_type": "markdown",
      "source": [
        "## Exercício 2"
      ],
      "metadata": {
        "id": "3YA6Hzq4YDyH"
      }
    },
    {
      "cell_type": "markdown",
      "source": [
        "A mistura especificada a seguir é alimentada a um separador flash que opera a uma pressão de 200 psia.\n",
        "Composição:\n",
        " - Etileno($C_2 H_4$) = 20 %\n",
        " - Etano($C_2 H_6$) = 20 %\n",
        " - Propano($C_3 H_8$) = 40 %\n",
        " - n-Butano($C_4 H_{10}$) = 20 %\n",
        "\n",
        "\n",
        " Determine a fração da alimentação que é vaporizada e as composições das correntes de vapor e líquido formadas para 3 condições:\n",
        "\n",
        " $T_{drum}$ = 400 ºR; 600 ºR; 525°R."
      ],
      "metadata": {
        "id": "e-c4NEqTYHd_"
      }
    },
    {
      "cell_type": "code",
      "source": [
        "mistura = [0.2,0.2,0.4,0.2]\n",
        "\n",
        "T = 400.0\n",
        "#T = 600.0\n",
        "#T = 525.0\n",
        "P = 200\n",
        "\n",
        "def FOtimizada(f): #função de otimização de 1 parâmetro\n",
        "  x = sum(flash(mistura,dados,P,T,f)[0])\n",
        "  y = sum(flash(mistura,dados,P,T,f)[1])\n",
        "  return (x - 1)**2 + (y - 1)**2 #Forçando os somatórios a darem 1\n",
        "\n",
        "R1 = opt.minimize_scalar(FOtimizada,bounds=(0,1)).x\n",
        "print(f'Temperatura otimizada {round(R1,2)}°R')\n",
        "\n",
        "\n"
      ],
      "metadata": {
        "id": "X-gqibKUYIhr",
        "colab": {
          "base_uri": "https://localhost:8080/"
        },
        "outputId": "ab081d92-35a6-46e9-b1f3-cd26d8688837"
      },
      "execution_count": 8,
      "outputs": [
        {
          "output_type": "stream",
          "name": "stdout",
          "text": [
            "Temperatura otimizada 0.18°R\n"
          ]
        }
      ]
    },
    {
      "cell_type": "code",
      "source": [
        "T = 400\n",
        "f = 0.18\n",
        "print(f'Componentes - Temperatura {T}°R no flash à {P} psia')\n",
        "for i,j in enumerate(dados):\n",
        "  xi = flash(mistura,dados,P,T,f)[0][i]*100\n",
        "  yi = flash(mistura,dados,P,T,f)[1][i]*100\n",
        "  print(f'{j}: fase líquida {round(xi,2)} % | fase gasosa {round(yi,2)} %')"
      ],
      "metadata": {
        "colab": {
          "base_uri": "https://localhost:8080/"
        },
        "id": "0HL704zoUnqQ",
        "outputId": "964903a7-e4a7-4cd6-bd66-78e6a7b6a2ab"
      },
      "execution_count": 9,
      "outputs": [
        {
          "output_type": "stream",
          "name": "stdout",
          "text": [
            "Componentes - Temperatura 400°R no flash à 200 psia\n",
            "Etileno: fase líquida 21.07 % | fase gasosa 15.15 %\n",
            "Etano: fase líquida 22.53 % | fase gasosa 8.49 %\n",
            "Propano: fase líquida 48.23 % | fase gasosa 2.5 %\n",
            "Butano: fase líquida 21.25 % | fase gasosa 14.31 %\n"
          ]
        }
      ]
    }
  ]
}