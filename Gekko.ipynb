{
  "nbformat": 4,
  "nbformat_minor": 0,
  "metadata": {
    "colab": {
      "provenance": [],
      "authorship_tag": "ABX9TyNAbnhkfQdi+tdG+dWsjsMy",
      "include_colab_link": true
    },
    "kernelspec": {
      "name": "python3",
      "display_name": "Python 3"
    },
    "language_info": {
      "name": "python"
    }
  },
  "cells": [
    {
      "cell_type": "markdown",
      "metadata": {
        "id": "view-in-github",
        "colab_type": "text"
      },
      "source": [
        "<a href=\"https://colab.research.google.com/github/jorgelum/EQ/blob/main/Gekko.ipynb\" target=\"_parent\"><img src=\"https://colab.research.google.com/assets/colab-badge.svg\" alt=\"Open In Colab\"/></a>"
      ]
    },
    {
      "cell_type": "markdown",
      "source": [
        "**Universidade Federal de São Paulo**\n",
        "\n",
        "Autor: Jorge Luiz Mendes\n"
      ],
      "metadata": {
        "id": "Ks641nk-qTgJ"
      }
    },
    {
      "cell_type": "markdown",
      "source": [
        "## Introdução\n",
        "\n",
        "[Gekko](https://gekko.readthedocs.io/en/latest/index.html?highlight=doi#) é uma biblioteca de otimização em Python projetada para resolver uma variedade de problemas matemáticos complexos. Com foco em otimização linear, não linear e dinâmica, o Gekko oferece uma interface simples para modelar e resolver problemas de programação matemática.\n",
        "Este é um pequeno tutorial para resolver problemas relacionados a engenharia química."
      ],
      "metadata": {
        "id": "xygoShdxce8n"
      }
    },
    {
      "cell_type": "markdown",
      "source": [
        "## Bibliotecas"
      ],
      "metadata": {
        "id": "Jsd_K8dr8qTG"
      }
    },
    {
      "cell_type": "code",
      "source": [
        "pip install gekko #instalação"
      ],
      "metadata": {
        "id": "ZknK6KJZeUeZ",
        "colab": {
          "base_uri": "https://localhost:8080/"
        },
        "outputId": "a9c1d84b-22c5-4076-c152-4a2fc3684b71"
      },
      "execution_count": 1,
      "outputs": [
        {
          "output_type": "stream",
          "name": "stdout",
          "text": [
            "Collecting gekko\n",
            "  Downloading gekko-1.0.6-py3-none-any.whl (12.2 MB)\n",
            "\u001b[2K     \u001b[90m━━━━━━━━━━━━━━━━━━━━━━━━━━━━━━━━━━━━━━━━\u001b[0m \u001b[32m12.2/12.2 MB\u001b[0m \u001b[31m84.7 MB/s\u001b[0m eta \u001b[36m0:00:00\u001b[0m\n",
            "\u001b[?25hRequirement already satisfied: numpy>=1.8 in /usr/local/lib/python3.10/dist-packages (from gekko) (1.23.5)\n",
            "Installing collected packages: gekko\n",
            "Successfully installed gekko-1.0.6\n"
          ]
        }
      ]
    },
    {
      "cell_type": "code",
      "source": [
        "import numpy as np\n",
        "from gekko import GEKKO,chemical\n",
        "import matplotlib.pyplot as plt # gráficos"
      ],
      "metadata": {
        "id": "2Hck7QaCmwl6"
      },
      "execution_count": 2,
      "outputs": []
    },
    {
      "cell_type": "markdown",
      "source": [
        "## Sistema de Equações Lineares"
      ],
      "metadata": {
        "id": "Rm29R7RodjYr"
      }
    },
    {
      "cell_type": "markdown",
      "source": [
        "\\begin{equation}\n",
        "  \\ 2x + y + 2z  = 10 \\\\\n",
        "   x + 4z = 13 \\\\\n",
        "   4x + 2 y + z = 11\n",
        "\\end{equation}"
      ],
      "metadata": {
        "id": "8hD67MOydqU-"
      }
    },
    {
      "cell_type": "code",
      "source": [
        "# Criando um modelo\n",
        "m = GEKKO()\n",
        "\n",
        "#Definindo variáveis\n",
        "x = m.Var()\n",
        "y = m.Var()\n",
        "z = m.Var()\n",
        "\n",
        "#Definindo as equações lineares\n",
        "m.Equations([2*x + y + 2*z == 10,\n",
        "             x  + 4*z == 13,\n",
        "             4*x + 2*y + z == 11])\n",
        "\n",
        "# Resolvendo\n",
        "m.solve(disp = False)\n",
        "# Resultados\n",
        "print(f'x = {x.value}, y ={y.value}, z = {z.value}')"
      ],
      "metadata": {
        "colab": {
          "base_uri": "https://localhost:8080/"
        },
        "id": "f1vX-0vntWOx",
        "outputId": "e873915b-0478-4e3f-a1cf-c0086147fb65"
      },
      "execution_count": null,
      "outputs": [
        {
          "output_type": "stream",
          "name": "stdout",
          "text": [
            "x = [1.0], y =[2.0], z = [3.0] \n"
          ]
        }
      ]
    },
    {
      "cell_type": "markdown",
      "source": [
        "## Sistemas de Equações Não Lineares"
      ],
      "metadata": {
        "id": "rfxMTqEt7EXu"
      }
    },
    {
      "cell_type": "markdown",
      "source": [
        "\\begin{equation}\n",
        "  \\ -x_1^{2} + 2x_2^{2} =4 \\\\\n",
        "  \\ 2x_1^{2} -x_2 = 1\n",
        "\\end{equation}"
      ],
      "metadata": {
        "id": "QJLsZFtV7Ma2"
      }
    },
    {
      "cell_type": "code",
      "source": [
        "# Criando um modelo\n",
        "m = GEKKO()\n",
        "\n",
        "#Definindo variáveis\n",
        "x1,x2 = [m.Var() for i in range(2)]\n",
        "\n",
        "#estimativa inicial\n",
        "x1.value = -1\n",
        "x2.value = 1\n",
        "\n",
        "#Definindo as equações não lineares\n",
        "m.Equations([-x1**2 + 2*x2**2==4, 2*x1**2 - x2==1])\n",
        "\n",
        "# Resolvendo\n",
        "m.solve(disp = False)\n",
        "# Resultados\n",
        "print(f'x1 = {x1.value}  e x2 = {x2.value} ')"
      ],
      "metadata": {
        "colab": {
          "base_uri": "https://localhost:8080/"
        },
        "id": "Fq1q8ihk7KnF",
        "outputId": "7f19d5d6-b8ce-4de2-c7e3-baa5ddeee359"
      },
      "execution_count": null,
      "outputs": [
        {
          "output_type": "stream",
          "name": "stdout",
          "text": [
            "x1 = [-1.1467779483]  e x2 = [1.6301993241] \n"
          ]
        }
      ]
    },
    {
      "cell_type": "markdown",
      "source": [
        "## Otimização Linear\n"
      ],
      "metadata": {
        "id": "t3eut-v6SgwF"
      }
    },
    {
      "cell_type": "markdown",
      "source": [
        "Maximize a função objetivo:\n",
        "\\begin{equation}\n",
        "  \\ FO =  150x_1 + 175x_2\n",
        "\\end{equation}\n",
        "\n",
        "Restrições:\n",
        "\n",
        "\\begin{equation}\n",
        "  \\  7x_1 + 11x_2 ≼ 77 \\\\\n",
        "  \\  10x_1 + 8x_2 ≼ 80 \\\\\n",
        "  \\ 0 ≼ x_1 ≼ 9 \\\\\n",
        "  \\ 0 ≼ x_2 ≼ 6 \\\n",
        "\\end{equation}\n",
        "\n"
      ],
      "metadata": {
        "id": "wH8A-NzhSxnv"
      }
    },
    {
      "cell_type": "code",
      "source": [
        "# Criando um modelo\n",
        "m = GEKKO()\n",
        "\n",
        "# Definindo as variáveis\n",
        "x1,x2 = [m.Var() for i in range(2)]\n",
        "\n",
        "# limite superior\n",
        "x1.upper = 9\n",
        "x2.upper = 6\n",
        "# limite inferior\n",
        "x1.lower = 0\n",
        "x2.lower = 0\n",
        "\n",
        "#Definindo as equações\n",
        "m.Equations([7*x1 + 11*x2 <= 77, 10*x1 + 8*x2 <= 80])\n",
        "\n",
        "#Definindo a equação a ser maximizada\n",
        "m.Maximize(150*x1 + 175*x2)\n",
        "\n",
        "\n",
        "m.solve(disp = False)\n",
        "\n",
        "print(f'x1: {x1.value} , x2:{x2.value} e FO: {-m.options.OBJFCNVAL} ')\n",
        "\n"
      ],
      "metadata": {
        "id": "FlprPXWEUfRq",
        "colab": {
          "base_uri": "https://localhost:8080/"
        },
        "outputId": "951bc142-5edc-4bb0-d35b-67d5b7202bab"
      },
      "execution_count": null,
      "outputs": [
        {
          "output_type": "stream",
          "name": "stdout",
          "text": [
            "x1: [4.8888888893] , x2:[3.8888888893] e FO: 1413.888889 \n"
          ]
        }
      ]
    },
    {
      "cell_type": "code",
      "source": [
        "type(x1.value)"
      ],
      "metadata": {
        "colab": {
          "base_uri": "https://localhost:8080/"
        },
        "id": "7rpZO2XocMsh",
        "outputId": "cab12725-51b9-4f11-94e7-8e9bf5bdf9a8"
      },
      "execution_count": null,
      "outputs": [
        {
          "output_type": "execute_result",
          "data": {
            "text/plain": [
              "gekko.gk_operators.GK_Value"
            ]
          },
          "metadata": {},
          "execution_count": 8
        }
      ]
    },
    {
      "cell_type": "markdown",
      "source": [
        "## Sistema de Equações Diferenciais (EDO's)"
      ],
      "metadata": {
        "id": "PSOEI2BJpycq"
      }
    },
    {
      "cell_type": "markdown",
      "source": [
        "\\begin{equation}\n",
        "  \\frac{dm_A}{dt} =-0,08m_A + 0,02m_B \\\\\n",
        "  \\frac{dm_B}{dt} = 0,08m_A - 0,01m_B\n",
        "\\end{equation}"
      ],
      "metadata": {
        "id": "bUcnPFtBVxlz"
      }
    },
    {
      "cell_type": "code",
      "source": [
        "# Criando um modelo\n",
        "m = GEKKO()\n",
        "\n",
        "#Definindo variáveis e estabelecendo o valor inicial\n",
        "ma = m.Var(25.0)\n",
        "mb = m.Var(0.0)\n",
        "\n",
        "#Definindo as equações diferenciais\n",
        "m.Equation(ma.dt()==-0.08*ma+0.02*mb)\n",
        "m.Equation(mb.dt()== 0.08*ma - 0.01*mb)\n",
        "\n",
        "#Definindo o intervalo de tempo\n",
        "m.time = np.linspace(0,20)\n",
        "\n",
        "#Estabelecendo o tipo de resolução desse sistema dinâmico\n",
        "# IMODE = 4 (resolução simultânea)\n",
        "m.options.IMODE = 4\n",
        "\n",
        "# Resolvendo\n",
        "m.solve(disp=False)\n",
        "\n",
        "# Plotando os resultados\n",
        "plt.plot(m.time,ma,label='Tanque A')\n",
        "plt.plot(m.time,mb,label='Tanque B')\n",
        "plt.title('Tanque de Mistura')\n",
        "plt.xlabel('tempo(min)')\n",
        "plt.ylabel('Massa(libras)')\n",
        "plt.legend(loc='best')\n",
        "plt.show()\n"
      ],
      "metadata": {
        "id": "1IcONXXg6pjF",
        "colab": {
          "base_uri": "https://localhost:8080/",
          "height": 472
        },
        "outputId": "69d112af-eea8-445e-f324-a8bb50cd130f"
      },
      "execution_count": null,
      "outputs": [
        {
          "output_type": "display_data",
          "data": {
            "text/plain": [
              "<Figure size 640x480 with 1 Axes>"
            ],
            "image/png": "[encoded data removed]"
          },
          "metadata": {}
        }
      ]
    },
    {
      "cell_type": "markdown",
      "source": [
        "## DAE's"
      ],
      "metadata": {
        "id": "r4_9P69XqOrN"
      }
    },
    {
      "cell_type": "markdown",
      "source": [],
      "metadata": {
        "id": "1tkHCp4YP09d"
      }
    },
    {
      "cell_type": "code",
      "source": [
        "m = GEKKO()\n",
        "\n",
        "Va = m.Var(value = 4.5)\n",
        "Vb = m.Var(value = 25)\n",
        "\n",
        "F1 = m.Var(value = 26.1)\n",
        "F2 = m.Var(value = 28)\n",
        "\n",
        "hA = m.Var(value = 1.5)\n",
        "hB = m.Var(value = 5)\n",
        "\n",
        "Va.dt().value = 1.2\n",
        "hA.dt().value = 0.4\n",
        "\n",
        "\n",
        "m.time = np.linspace(0,5)\n",
        "t = m.Param(value=m.time)\n",
        "\n",
        "m.Equations([Va.dt()==F1 -20*0.8 -20*0.3*hA,\n",
        "             Vb.dt()==F2  + 20*0.8  + 20*0.3*hA -30*1.1 -30*0.2*hB,\n",
        "             Va == 3*hA,\n",
        "             Vb == 5*hB,\n",
        "             hA == 3.5 - 2*m.exp(-0.2*t),\n",
        "             Va.dt()==3*hA.dt(),\n",
        "             hA.dt()== 0.4*m.exp(-0.2*t)])\n",
        "\n",
        "m.options.IMODE=4\n",
        "#m.options.NODES=3\n",
        "m.solve(disp=False)\n",
        "\n",
        "\n"
      ],
      "metadata": {
        "id": "WvXqZFbQP3cf"
      },
      "execution_count": null,
      "outputs": []
    }
  ]
}