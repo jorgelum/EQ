{
  "cells": [
    {
      "cell_type": "markdown",
      "metadata": {
        "id": "view-in-github",
        "colab_type": "text"
      },
      "source": [
        "<a href=\"https://colab.research.google.com/github/jorgelum/EQ/blob/main/OPU3.ipynb\" target=\"_parent\"><img src=\"https://colab.research.google.com/assets/colab-badge.svg\" alt=\"Open In Colab\"/></a>"
      ]
    },
    {
      "cell_type": "markdown",
      "source": [
        "**Unidade Curricular:** Operações Unitárias 3 \\\n",
        "**Coordenadora:** Profᵃ. Drᵃ. Gisele Atsuko Medeiros Hirata \\\n",
        "**Autor:** Jorge Luiz Mendes"
      ],
      "metadata": {
        "id": "BvS0TG-NJeIt"
      }
    },
    {
      "cell_type": "markdown",
      "source": [
        "## Bibliotecas Básicas"
      ],
      "metadata": {
        "id": "X_gIBJ5l0zXu"
      }
    },
    {
      "cell_type": "code",
      "source": [
        "import pandas as pd # tratamento de dados/ tabela\n",
        "import numpy as np # algebra linear\n",
        "import scipy.optimize as opt #otimização\n",
        "import matplotlib.pyplot as plt #gráficos"
      ],
      "metadata": {
        "id": "jnAo1Bec0xNu"
      },
      "execution_count": null,
      "outputs": []
    },
    {
      "cell_type": "markdown",
      "source": [
        "## Tanque Flash"
      ],
      "metadata": {
        "id": "9uTpX9ZZ0isr"
      }
    },
    {
      "cell_type": "markdown",
      "source": [
        "**Exercício 1** - Uma mistura com 30 % molar de n-hexano, 32 % molar de n-heptano e 38 %\n",
        "molar de n-octano é sujeita a uma destilação flash à pressão de 1,2 bar, em que\n",
        "60 % da alimentação são vaporizados. Determine: \\\n",
        "a) A temperatura no vaso de flash (R:T = 106°C). \\\n",
        "b) As composições do vapor e líquido produzidos \\\n",
        "(R: x<sub>n-hexano</sub> = 13,7 % molar;\n",
        "x<sub>n-heptano</sub> = 31,1 % molar; \\\\\n",
        "x<sub>n-octano</sub>= 55,2 % molar e \\\n",
        "y<sub>n-hexano</sub> = 41 % molar;  \\\\\n",
        "y<sub>n-heptano</sub> = 32,6 % molar; \\\\\n",
        "x<sub>n-octano</sub>= 26,4% molar)\n"
      ],
      "metadata": {
        "id": "r5-i4pwMWQle"
      }
    },
    {
      "cell_type": "markdown",
      "source": [
        "***Dados***: Temperatura de bolha e de orvalho a 1,2 bar, 94 °C e 112 °C,\n",
        "respectivamente."
      ],
      "metadata": {
        "id": "RkNios8XZKu5"
      }
    },
    {
      "cell_type": "markdown",
      "source": [
        "Calcular a pressão de saturação com os parâmetros da equação de antoine."
      ],
      "metadata": {
        "id": "PfT4uP7nKi3C"
      }
    },
    {
      "cell_type": "markdown",
      "source": [
        "\\begin{equation}\n",
        "   \\log(P_{saturação}(bar)) = A - \\frac{B}{T+C}\n",
        "\\end{equation}"
      ],
      "metadata": {
        "id": "L5wEirMt-OI0"
      }
    },
    {
      "cell_type": "code",
      "source": [
        "def Psat(dados,T):\n",
        "  n = len(dados)\n",
        "  P = np.zeros(n)\n",
        "  for i,j in enumerate(dados):\n",
        "    A,B,C = dados[j]\n",
        "    P[i] = 10**(A - (B/(T+C)))\n",
        "  return P"
      ],
      "metadata": {
        "id": "zbvAXCyMKdPR"
      },
      "execution_count": null,
      "outputs": []
    },
    {
      "cell_type": "code",
      "source": [
        "Parametros_Antoine = {'n-hexano':[4.10014, 1170.875, 224.317],\n",
        "                      'n-heptano':[4.02023, 1263.909, 216.432],\n",
        "                      'n-octano':[4.05075, 1356.360, 209.635]}\n",
        "\n",
        "pd.DataFrame(data = Parametros_Antoine,index = [\"A\",\"B\",\"C\"]).T"
      ],
      "metadata": {
        "colab": {
          "base_uri": "https://localhost:8080/",
          "height": 143
        },
        "id": "XAXXs3OXLgHv",
        "outputId": "857b49c0-d204-468c-8d88-1ca7a6c27d4e"
      },
      "execution_count": null,
      "outputs": [
        {
          "output_type": "execute_result",
          "data": {
            "text/plain": [
              "                 A         B        C\n",
              "n-hexano   4.10014  1170.875  224.317\n",
              "n-heptano  4.02023  1263.909  216.432\n",
              "n-octano   4.05075  1356.360  209.635"
            ],
            "text/html": [
              "\n",
              "  <div id=\"df-ad066713-d03d-4f79-ae0a-06cdc75be427\">\n",
              "    <div class=\"colab-df-container\">\n",
              "      <div>\n",
              "<style scoped>\n",
              "    .dataframe tbody tr th:only-of-type {\n",
              "        vertical-align: middle;\n",
              "    }\n",
              "\n",
              "    .dataframe tbody tr th {\n",
              "        vertical-align: top;\n",
              "    }\n",
              "\n",
              "    .dataframe thead th {\n",
              "        text-align: right;\n",
              "    }\n",
              "</style>\n",
              "<table border=\"1\" class=\"dataframe\">\n",
              "  <thead>\n",
              "    <tr style=\"text-align: right;\">\n",
              "      <th></th>\n",
              "      <th>A</th>\n",
              "      <th>B</th>\n",
              "      <th>C</th>\n",
              "    </tr>\n",
              "  </thead>\n",
              "  <tbody>\n",
              "    <tr>\n",
              "      <th>n-hexano</th>\n",
              "      <td>4.10014</td>\n",
              "      <td>1170.875</td>\n",
              "      <td>224.317</td>\n",
              "    </tr>\n",
              "    <tr>\n",
              "      <th>n-heptano</th>\n",
              "      <td>4.02023</td>\n",
              "      <td>1263.909</td>\n",
              "      <td>216.432</td>\n",
              "    </tr>\n",
              "    <tr>\n",
              "      <th>n-octano</th>\n",
              "      <td>4.05075</td>\n",
              "      <td>1356.360</td>\n",
              "      <td>209.635</td>\n",
              "    </tr>\n",
              "  </tbody>\n",
              "</table>\n",
              "</div>\n",
              "      <button class=\"colab-df-convert\" onclick=\"convertToInteractive('df-ad066713-d03d-4f79-ae0a-06cdc75be427')\"\n",
              "              title=\"Convert this dataframe to an interactive table.\"\n",
              "              style=\"display:none;\">\n",
              "        \n",
              "  <svg xmlns=\"http://www.w3.org/2000/svg\" height=\"24px\"viewBox=\"0 0 24 24\"\n",
              "       width=\"24px\">\n",
              "    <path d=\"M0 0h24v24H0V0z\" fill=\"none\"/>\n",
              "    <path d=\"M18.56 5.44l.94 2.06.94-2.06 2.06-.94-2.06-.94-.94-2.06-.94 2.06-2.06.94zm-11 1L8.5 8.5l.94-2.06 2.06-.94-2.06-.94L8.5 2.5l-.94 2.06-2.06.94zm10 10l.94 2.06.94-2.06 2.06-.94-2.06-.94-.94-2.06-.94 2.06-2.06.94z\"/><path d=\"M17.41 7.96l-1.37-1.37c-.4-.4-.92-.59-1.43-.59-.52 0-1.04.2-1.43.59L10.3 9.45l-7.72 7.72c-.78.78-.78 2.05 0 2.83L4 21.41c.39.39.9.59 1.41.59.51 0 1.02-.2 1.41-.59l7.78-7.78 2.81-2.81c.8-.78.8-2.07 0-2.86zM5.41 20L4 18.59l7.72-7.72 1.47 1.35L5.41 20z\"/>\n",
              "  </svg>\n",
              "      </button>\n",
              "      \n",
              "  <style>\n",
              "    .colab-df-container {\n",
              "      display:flex;\n",
              "      flex-wrap:wrap;\n",
              "      gap: 12px;\n",
              "    }\n",
              "\n",
              "    .colab-df-convert {\n",
              "      background-color: #E8F0FE;\n",
              "      border: none;\n",
              "      border-radius: 50%;\n",
              "      cursor: pointer;\n",
              "      display: none;\n",
              "      fill: #1967D2;\n",
              "      height: 32px;\n",
              "      padding: 0 0 0 0;\n",
              "      width: 32px;\n",
              "    }\n",
              "\n",
              "    .colab-df-convert:hover {\n",
              "      background-color: #E2EBFA;\n",
              "      box-shadow: 0px 1px 2px rgba(60, 64, 67, 0.3), 0px 1px 3px 1px rgba(60, 64, 67, 0.15);\n",
              "      fill: #174EA6;\n",
              "    }\n",
              "\n",
              "    [theme=dark] .colab-df-convert {\n",
              "      background-color: #3B4455;\n",
              "      fill: #D2E3FC;\n",
              "    }\n",
              "\n",
              "    [theme=dark] .colab-df-convert:hover {\n",
              "      background-color: #434B5C;\n",
              "      box-shadow: 0px 1px 3px 1px rgba(0, 0, 0, 0.15);\n",
              "      filter: drop-shadow(0px 1px 2px rgba(0, 0, 0, 0.3));\n",
              "      fill: #FFFFFF;\n",
              "    }\n",
              "  </style>\n",
              "\n",
              "      <script>\n",
              "        const buttonEl =\n",
              "          document.querySelector('#df-ad066713-d03d-4f79-ae0a-06cdc75be427 button.colab-df-convert');\n",
              "        buttonEl.style.display =\n",
              "          google.colab.kernel.accessAllowed ? 'block' : 'none';\n",
              "\n",
              "        async function convertToInteractive(key) {\n",
              "          const element = document.querySelector('#df-ad066713-d03d-4f79-ae0a-06cdc75be427');\n",
              "          const dataTable =\n",
              "            await google.colab.kernel.invokeFunction('convertToInteractive',\n",
              "                                                     [key], {});\n",
              "          if (!dataTable) return;\n",
              "\n",
              "          const docLinkHtml = 'Like what you see? Visit the ' +\n",
              "            '<a target=\"_blank\" href=https://colab.research.google.com/notebooks/data_table.ipynb>data table notebook</a>'\n",
              "            + ' to learn more about interactive tables.';\n",
              "          element.innerHTML = '';\n",
              "          dataTable['output_type'] = 'display_data';\n",
              "          await google.colab.output.renderOutput(dataTable, element);\n",
              "          const docLink = document.createElement('div');\n",
              "          docLink.innerHTML = docLinkHtml;\n",
              "          element.appendChild(docLink);\n",
              "        }\n",
              "      </script>\n",
              "    </div>\n",
              "  </div>\n",
              "  "
            ]
          },
          "metadata": {},
          "execution_count": 4
        }
      ]
    },
    {
      "cell_type": "code",
      "source": [
        "Temp = 206\n",
        "for i,j in enumerate(Parametros_Antoine):\n",
        "  print(f'Pressão de saturação do {j}: {round(Psat(Parametros_Antoine,Temp)[i],2)} bar a {Temp} °C')"
      ],
      "metadata": {
        "colab": {
          "base_uri": "https://localhost:8080/"
        },
        "id": "Hu12L4QDUrJ1",
        "outputId": "7b113785-54e3-4e0e-d579-0a8435b0d4a4"
      },
      "execution_count": null,
      "outputs": [
        {
          "output_type": "stream",
          "name": "stdout",
          "text": [
            "Pressão de saturação do n-hexano: 23.94 bar a 206 °C\n",
            "Pressão de saturação do n-heptano: 10.67 bar a 206 °C\n",
            "Pressão de saturação do n-octano: 6.13 bar a 206 °C\n"
          ]
        }
      ]
    },
    {
      "cell_type": "markdown",
      "source": [
        "Cálculo do Flash"
      ],
      "metadata": {
        "id": "76qbGWeExGBe"
      }
    },
    {
      "cell_type": "markdown",
      "source": [
        "Coeficiente de Distribuição:\n",
        "\\begin{equation}\n",
        "  k = \\frac{P_{sat}}{P}\n",
        "\\end{equation}\n",
        "Vaporização na alimentação:\n",
        "\\begin{equation}\n",
        "f = \\frac{V}{F}\n",
        "\\end{equation}"
      ],
      "metadata": {
        "id": "HcnXZEfrxJND"
      }
    },
    {
      "cell_type": "markdown",
      "source": [
        "Misturas multicomponentes de fases líquida e gasosa:\n",
        "\\begin{equation}\n",
        "x_{i} = \\frac{z_{i}}{1 + (K_{i} -1)\\frac{V}{F}}\n",
        "\\end{equation} \\\n",
        "\n",
        "\\begin{equation}\n",
        "y_{i} = \\frac{z_{i}K_i}{1 + (K_{i} -1)\\frac{V}{F}}\n",
        "\\end{equation}\n",
        "\n"
      ],
      "metadata": {
        "id": "w268Trmk1fVN"
      }
    },
    {
      "cell_type": "code",
      "source": [
        "def flash(mistura:list,dados:dict,P,T,f):\n",
        "  n = len(mistura)\n",
        "  x = np.zeros(n)\n",
        "  y = np.zeros(n)\n",
        "  k = np.zeros(n)\n",
        "\n",
        "  for i in range(0,n):\n",
        "     k[i] = Psat(dados,T)[i]/P\n",
        "     x[i] = mistura[i]/((1+(k[i]-1)*f))\n",
        "     y[i] = x[i]*k[i]\n",
        "\n",
        "  return x,y"
      ],
      "metadata": {
        "id": "JPLNPrX1QtIB"
      },
      "execution_count": null,
      "outputs": []
    },
    {
      "cell_type": "markdown",
      "source": [
        "Usando dados do exercício"
      ],
      "metadata": {
        "id": "PhUoEu9K6Qfw"
      }
    },
    {
      "cell_type": "code",
      "source": [
        "mist = [0.3,0.32,0.38]\n",
        "Parametros_Antoine = {'n-hexano':[4.10014, 1170.875, 224.317],\n",
        "                      'n-heptano':[4.02023, 1263.909, 216.432],\n",
        "                      'n-octano':[4.05075, 1356.360, 209.635]}\n",
        "\n",
        "P = 1.2\n",
        "T = 94 #Temperatura de bolha para estimativa inicial\n",
        "f = 0.6\n",
        "\n",
        "print(f'Componentes - Temperatura {T} °C no flash')\n",
        "for i,j in enumerate(Parametros_Antoine):\n",
        "  xi = flash(mist,Parametros_Antoine,P,T,f)[0][i]*100\n",
        "  yi = flash(mist,Parametros_Antoine,P,T,f)[1][i]*100\n",
        "  print(f'{j}: fase líquida {round(xi,2)} % | fase gasosa {round(yi,2)} %')\n"
      ],
      "metadata": {
        "colab": {
          "base_uri": "https://localhost:8080/"
        },
        "id": "-K4HxkM5Gnfk",
        "outputId": "0e831eb6-4b37-4060-90f5-7af650f62eb3"
      },
      "execution_count": null,
      "outputs": [
        {
          "output_type": "stream",
          "name": "stdout",
          "text": [
            "Componentes - Temperatura 94 °C no flash\n",
            "n-hexano: fase líquida 17.44 % | fase gasosa 38.38 %\n",
            "n-heptano: fase líquida 37.9 % | fase gasosa 28.07 %\n",
            "n-octano: fase líquida 64.22 % | fase gasosa 20.52 %\n"
          ]
        }
      ]
    },
    {
      "cell_type": "markdown",
      "source": [
        "É necessário ajustar a temperatura do flash adotando o seguinte critério:\n",
        "\n",
        "\\begin{equation}\n",
        "  \\sum\\limits_{i=0}^{C} z_i = \\sum\\limits_{i=0}^{C} y_i =\\sum\\limits_{i=0}^{C} x_i = 1\n",
        "\\end{equation} \\\n",
        "\n",
        "\\begin{equation}\n",
        "  \\sum\\limits_{i=0}^{C} \\frac{z_{i}}{1 + (K_{i} -1)\\frac{V}{F}}= 1 \\\\\\\n",
        "  \\sum\\limits_{i=0}^{C} \\frac{z_{i}K_i}{1 + (K_{i} -1)\\frac{V}{F}} = 1\n",
        "\\end{equation} \\\n",
        "\n",
        "\n",
        "\n"
      ],
      "metadata": {
        "id": "RNXOSFt--G8o"
      }
    },
    {
      "cell_type": "code",
      "source": [
        "mist = [0.3,0.32,0.38]\n",
        "Parametros_Antoine = {'n-hexano':[4.10014, 1170.875, 224.317],\n",
        "                      'n-heptano':[4.02023, 1263.909, 216.432],\n",
        "                      'n-octano':[4.05075, 1356.360, 209.635]}\n",
        "\n",
        "P = 1.2\n",
        "\n",
        "f = 0.6\n",
        "def FOtimizada(T): #função de otimização de 1 parâmetro\n",
        "  x = sum(flash(mist,Parametros_Antoine,P,T,f)[0])\n",
        "  y = sum(flash(mist,Parametros_Antoine,P,T,f)[1])\n",
        "  return (x - 1)**2 + (y - 1)**2 #Forçando os somatórios a darem 1\n",
        "\n",
        "resposta = opt.minimize_scalar(FOtimizada).x\n",
        "\n",
        "print(f'Componentes - Temperatura {round(resposta,2)} °C ajustada no flash')\n",
        "for i,j in enumerate(Parametros_Antoine):\n",
        "  xi = flash(mist,Parametros_Antoine,P,resposta,f)[0][i]*100\n",
        "  yi = flash(mist,Parametros_Antoine,P,resposta,f)[1][i]*100\n",
        "  print(f'{j}: fase líquida {round(xi,2)} % | fase gasosa {round(yi,2)} %')"
      ],
      "metadata": {
        "colab": {
          "base_uri": "https://localhost:8080/"
        },
        "id": "i_BjfG6yJJXq",
        "outputId": "784e1bc7-3ecd-48e5-d3d3-b7112a5e005e"
      },
      "execution_count": null,
      "outputs": [
        {
          "output_type": "stream",
          "name": "stdout",
          "text": [
            "Componentes - Temperatura 106.22 °C ajustada no flash\n",
            "n-hexano: fase líquida 13.6 % | fase gasosa 40.93 %\n",
            "n-heptano: fase líquida 30.96 % | fase gasosa 32.7 %\n",
            "n-octano: fase líquida 55.44 % | fase gasosa 26.37 %\n"
          ]
        }
      ]
    },
    {
      "cell_type": "markdown",
      "source": [
        "## Destilação Binária"
      ],
      "metadata": {
        "id": "fP1CFPKCUl0i"
      }
    },
    {
      "cell_type": "markdown",
      "source": [
        "Destilador Binário"
      ],
      "metadata": {
        "id": "KEElUlntUwCe"
      }
    },
    {
      "cell_type": "code",
      "source": [
        "def destiladorBinario(F,y):\n",
        "  Zf,xd,xw = y\n",
        "  D = F*((Zf-xw)/(xd-xw))\n",
        "  W = F - D\n",
        "  return [D,W]"
      ],
      "metadata": {
        "id": "un_M8Qc0UtM2"
      },
      "execution_count": null,
      "outputs": []
    },
    {
      "cell_type": "code",
      "source": [
        "\n",
        "y = [0.4,0.9,0.1]\n",
        "destiladorBinario(100,y)"
      ],
      "metadata": {
        "colab": {
          "base_uri": "https://localhost:8080/"
        },
        "id": "9PirOP57r-ll",
        "outputId": "62be4dcf-4312-4693-8899-bd9616af7e32"
      },
      "execution_count": null,
      "outputs": [
        {
          "output_type": "execute_result",
          "data": {
            "text/plain": [
              "37.50000000000001"
            ]
          },
          "metadata": {},
          "execution_count": 4
        }
      ]
    },
    {
      "cell_type": "code",
      "source": [],
      "metadata": {
        "id": "65XWKSJmRBKh"
      },
      "execution_count": null,
      "outputs": []
    },
    {
      "cell_type": "markdown",
      "source": [
        "## Destilação Multicomponente"
      ],
      "metadata": {
        "id": "06xu4lfm-Ghc"
      }
    },
    {
      "cell_type": "markdown",
      "source": [
        "**Exercício 1** - Utiliza-se uma coluna de destilação com um condensador total e um refervedor\n",
        "parcial para separar, a 1 atm, 100 mol/h de uma mistura gasosa saturada com 40 %\n",
        "benzeno, 30 % tolueno e 30 % cumeno (frações molares). Pretendem-se recuperar 95\n",
        "% de tolueno no destilado e uma recuperação de 95 % de cumeno no produto de\n",
        "fundo. O refluxo retorna para a coluna como líquido saturado e as vazões de líquido\n",
        "e de vapor são aproximadamente constantes de prato a prato. As volatilidade\n",
        "relativas são constantes e, considerando o tolueno como referência, são iguais a:"
      ],
      "metadata": {
        "id": "hs0nISWH-qnQ"
      }
    },
    {
      "cell_type": "markdown",
      "source": [
        "Considerações: \\\n",
        "\n",
        "\\begin{equation}\n",
        "    \\alpha_{i,j} = \\frac{1}{\\alpha_{j,i}}\n",
        "\\end{equation}"
      ],
      "metadata": {
        "id": "50txrvPZK0kh"
      }
    },
    {
      "cell_type": "code",
      "source": [
        "alfaBA = 0.21\n",
        "alfaCA = 2.25\n",
        "alfaAB = 1/alfaBA\n",
        "alfaCB = alfaCA/alfaBA\n",
        "\n",
        "pd.DataFrame(data = {'índice':['A','B','C'],\n",
        "                     'Componente':['Tolueno','Cumeno','Benzeno'],\n",
        "                     'Tipo':['LK','HK','LNK'],\n",
        "                     '%molar':[0.3,0.3,0.4],\n",
        "                     'alfaHR':[alfaAB,1,alfaCB]})"
      ],
      "metadata": {
        "colab": {
          "base_uri": "https://localhost:8080/",
          "height": 143
        },
        "id": "KEkfkRD8KPZ6",
        "outputId": "7ad09778-2c30-4778-9d6e-42f2a602813b"
      },
      "execution_count": null,
      "outputs": [
        {
          "output_type": "execute_result",
          "data": {
            "text/plain": [
              "  índice Componente Tipo  %molar     alfaHR\n",
              "0      A    Tolueno   LK     0.3   4.761905\n",
              "1      B     Cumeno   HK     0.3   1.000000\n",
              "2      C    Benzeno  LNK     0.4  10.714286"
            ],
            "text/html": [
              "\n",
              "  <div id=\"df-1075cb40-c57f-41f5-81f6-dc147c6f3033\">\n",
              "    <div class=\"colab-df-container\">\n",
              "      <div>\n",
              "<style scoped>\n",
              "    .dataframe tbody tr th:only-of-type {\n",
              "        vertical-align: middle;\n",
              "    }\n",
              "\n",
              "    .dataframe tbody tr th {\n",
              "        vertical-align: top;\n",
              "    }\n",
              "\n",
              "    .dataframe thead th {\n",
              "        text-align: right;\n",
              "    }\n",
              "</style>\n",
              "<table border=\"1\" class=\"dataframe\">\n",
              "  <thead>\n",
              "    <tr style=\"text-align: right;\">\n",
              "      <th></th>\n",
              "      <th>índice</th>\n",
              "      <th>Componente</th>\n",
              "      <th>Tipo</th>\n",
              "      <th>%molar</th>\n",
              "      <th>alfaHR</th>\n",
              "    </tr>\n",
              "  </thead>\n",
              "  <tbody>\n",
              "    <tr>\n",
              "      <th>0</th>\n",
              "      <td>A</td>\n",
              "      <td>Tolueno</td>\n",
              "      <td>LK</td>\n",
              "      <td>0.3</td>\n",
              "      <td>4.761905</td>\n",
              "    </tr>\n",
              "    <tr>\n",
              "      <th>1</th>\n",
              "      <td>B</td>\n",
              "      <td>Cumeno</td>\n",
              "      <td>HK</td>\n",
              "      <td>0.3</td>\n",
              "      <td>1.000000</td>\n",
              "    </tr>\n",
              "    <tr>\n",
              "      <th>2</th>\n",
              "      <td>C</td>\n",
              "      <td>Benzeno</td>\n",
              "      <td>LNK</td>\n",
              "      <td>0.4</td>\n",
              "      <td>10.714286</td>\n",
              "    </tr>\n",
              "  </tbody>\n",
              "</table>\n",
              "</div>\n",
              "      <button class=\"colab-df-convert\" onclick=\"convertToInteractive('df-1075cb40-c57f-41f5-81f6-dc147c6f3033')\"\n",
              "              title=\"Convert this dataframe to an interactive table.\"\n",
              "              style=\"display:none;\">\n",
              "        \n",
              "  <svg xmlns=\"http://www.w3.org/2000/svg\" height=\"24px\"viewBox=\"0 0 24 24\"\n",
              "       width=\"24px\">\n",
              "    <path d=\"M0 0h24v24H0V0z\" fill=\"none\"/>\n",
              "    <path d=\"M18.56 5.44l.94 2.06.94-2.06 2.06-.94-2.06-.94-.94-2.06-.94 2.06-2.06.94zm-11 1L8.5 8.5l.94-2.06 2.06-.94-2.06-.94L8.5 2.5l-.94 2.06-2.06.94zm10 10l.94 2.06.94-2.06 2.06-.94-2.06-.94-.94-2.06-.94 2.06-2.06.94z\"/><path d=\"M17.41 7.96l-1.37-1.37c-.4-.4-.92-.59-1.43-.59-.52 0-1.04.2-1.43.59L10.3 9.45l-7.72 7.72c-.78.78-.78 2.05 0 2.83L4 21.41c.39.39.9.59 1.41.59.51 0 1.02-.2 1.41-.59l7.78-7.78 2.81-2.81c.8-.78.8-2.07 0-2.86zM5.41 20L4 18.59l7.72-7.72 1.47 1.35L5.41 20z\"/>\n",
              "  </svg>\n",
              "      </button>\n",
              "      \n",
              "  <style>\n",
              "    .colab-df-container {\n",
              "      display:flex;\n",
              "      flex-wrap:wrap;\n",
              "      gap: 12px;\n",
              "    }\n",
              "\n",
              "    .colab-df-convert {\n",
              "      background-color: #E8F0FE;\n",
              "      border: none;\n",
              "      border-radius: 50%;\n",
              "      cursor: pointer;\n",
              "      display: none;\n",
              "      fill: #1967D2;\n",
              "      height: 32px;\n",
              "      padding: 0 0 0 0;\n",
              "      width: 32px;\n",
              "    }\n",
              "\n",
              "    .colab-df-convert:hover {\n",
              "      background-color: #E2EBFA;\n",
              "      box-shadow: 0px 1px 2px rgba(60, 64, 67, 0.3), 0px 1px 3px 1px rgba(60, 64, 67, 0.15);\n",
              "      fill: #174EA6;\n",
              "    }\n",
              "\n",
              "    [theme=dark] .colab-df-convert {\n",
              "      background-color: #3B4455;\n",
              "      fill: #D2E3FC;\n",
              "    }\n",
              "\n",
              "    [theme=dark] .colab-df-convert:hover {\n",
              "      background-color: #434B5C;\n",
              "      box-shadow: 0px 1px 3px 1px rgba(0, 0, 0, 0.15);\n",
              "      filter: drop-shadow(0px 1px 2px rgba(0, 0, 0, 0.3));\n",
              "      fill: #FFFFFF;\n",
              "    }\n",
              "  </style>\n",
              "\n",
              "      <script>\n",
              "        const buttonEl =\n",
              "          document.querySelector('#df-1075cb40-c57f-41f5-81f6-dc147c6f3033 button.colab-df-convert');\n",
              "        buttonEl.style.display =\n",
              "          google.colab.kernel.accessAllowed ? 'block' : 'none';\n",
              "\n",
              "        async function convertToInteractive(key) {\n",
              "          const element = document.querySelector('#df-1075cb40-c57f-41f5-81f6-dc147c6f3033');\n",
              "          const dataTable =\n",
              "            await google.colab.kernel.invokeFunction('convertToInteractive',\n",
              "                                                     [key], {});\n",
              "          if (!dataTable) return;\n",
              "\n",
              "          const docLinkHtml = 'Like what you see? Visit the ' +\n",
              "            '<a target=\"_blank\" href=https://colab.research.google.com/notebooks/data_table.ipynb>data table notebook</a>'\n",
              "            + ' to learn more about interactive tables.';\n",
              "          element.innerHTML = '';\n",
              "          dataTable['output_type'] = 'display_data';\n",
              "          await google.colab.output.renderOutput(dataTable, element);\n",
              "          const docLink = document.createElement('div');\n",
              "          docLink.innerHTML = docLinkHtml;\n",
              "          element.appendChild(docLink);\n",
              "        }\n",
              "      </script>\n",
              "    </div>\n",
              "  </div>\n",
              "  "
            ]
          },
          "metadata": {},
          "execution_count": 5
        }
      ]
    },
    {
      "cell_type": "markdown",
      "source": [
        "a) Número mínimo de estágios \\\n",
        "\n",
        "\\begin{equation}\n",
        "   N= \\frac{ln(\\frac{(FR_{C})_{D}(FR_{C})_{D}}{(1-(FR_{C})_{D})(1-(FR_{C})_{D})})}{ln α_{A,B}}\n",
        "\\end{equation}\n"
      ],
      "metadata": {
        "id": "PKR91sKQBNyt"
      }
    },
    {
      "cell_type": "code",
      "source": [
        "def F(theta):\n",
        "  alfa = [4.76,1,10.71]\n",
        "  zf = [0.3,0.3,0.4]\n",
        "  n = len(alfa)\n",
        "  under = np.zeros(n)\n",
        "  for i in range(n):\n",
        "    under[i]= (alfa[i]*zf[i])/(alfa[i] - theta)\n",
        "\n",
        "  return (1 - sum(under))**2"
      ],
      "metadata": {
        "id": "IQCdz5gx-NKk"
      },
      "execution_count": null,
      "outputs": []
    },
    {
      "cell_type": "code",
      "source": [
        "round(opt.minimize_scalar(F,bounds= (1.00001,7)).x,3)"
      ],
      "metadata": {
        "colab": {
          "base_uri": "https://localhost:8080/"
        },
        "id": "8R6Asjsk1j2a",
        "outputId": "c50ced16-ab85-42ef-ae88-8b1519b69ebd"
      },
      "execution_count": null,
      "outputs": [
        {
          "output_type": "execute_result",
          "data": {
            "text/plain": [
              "2.596"
            ]
          },
          "metadata": {},
          "execution_count": 8
        }
      ]
    },
    {
      "cell_type": "code",
      "source": [],
      "metadata": {
        "id": "EYZpBwKATOZ9"
      },
      "execution_count": null,
      "outputs": []
    }
  ],
  "metadata": {
    "colab": {
      "provenance": [],
      "authorship_tag": "ABX9TyMh11h7pj35lw9NnvD888Tg",
      "include_colab_link": true
    },
    "kernelspec": {
      "display_name": "Python 3",
      "name": "python3"
    },
    "language_info": {
      "name": "python"
    }
  },
  "nbformat": 4,
  "nbformat_minor": 0
}